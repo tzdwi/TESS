{
 "cells": [
  {
   "cell_type": "code",
   "execution_count": 2,
   "id": "local-taylor",
   "metadata": {},
   "outputs": [],
   "source": [
    "import numpy as np\n",
    "from matplotlib import pyplot as plt\n",
    "\n",
    "from sonipy.sonify import SonifyTool"
   ]
  },
  {
   "cell_type": "code",
   "execution_count": 10,
   "id": "cloudy-parking",
   "metadata": {},
   "outputs": [],
   "source": [
    "# First some setup\n",
    "\n",
    "#Minimum frequency is going to be a C4\n",
    "C4 = 261.6 # Hz\n",
    "\n",
    "frequency_args = {\n",
    "  'frequency_min' : C4,\n",
    "  'frequency_max' : C4 * 4,\n",
    "  # 'cents_per_value' : -680,\n",
    "  'value_min' : 0,\n",
    "  'value_max' : 2,\n",
    "}\n",
    "\n",
    "duration_args = {\n",
    "  'time_total' : 10000, # ms, 10s tone\n",
    "  # 'time_min' : 100, # ms\n",
    "  # 'time_max' : 800, # ms\n",
    "}\n",
    "\n",
    "duration_scale = 1. / 2000. # x value / time (ms)"
   ]
  },
  {
   "cell_type": "code",
   "execution_count": 16,
   "id": "hazardous-yeast",
   "metadata": {},
   "outputs": [
    {
     "name": "stdout",
     "output_type": "stream",
     "text": [
      "multitones created\n",
      "Writing ./tones/one_test.wav\n",
      "Saved multitone as ./tones/one_test.wav.\n"
     ]
    }
   ],
   "source": [
    "#Test 1: A single frequency\n",
    "\n",
    "x = [0, 0, 0, 5, 5, 5, 5]\n",
    "f = [1, 1, 1, 1, 1, 1, 1]\n",
    "\n",
    "\n",
    "Tone = SonifyTool(x, f,\n",
    "                  frequency_args = frequency_args,\n",
    "                  duration_args = duration_args,\n",
    "                  # duration_scale = duration_scale,\n",
    "                  bliplength=10.0)\n",
    "\n",
    "Tone.play(autoplay=False)\n",
    "Tone.save(filename='one_test.wav')"
   ]
  },
  {
   "cell_type": "code",
   "execution_count": 40,
   "id": "dried-texas",
   "metadata": {},
   "outputs": [
    {
     "name": "stdout",
     "output_type": "stream",
     "text": [
      "multitones created\n",
      "Writing ./tones/harmonic_test.wav\n",
      "Saved multitone as ./tones/harmonic_test.wav.\n"
     ]
    }
   ],
   "source": [
    "#Test 2: Two frequencies, one is harmonic of the other\n",
    "\n",
    "\n",
    "x = [0, 0, 5, 5 ]\n",
    "f = [0.5, 1, 0.5, 1 ]\n",
    "\n",
    "Tone = SonifyTool(x, f,\n",
    "                  frequency_args = frequency_args,\n",
    "                  duration_args = duration_args,\n",
    "                  # duration_scale = duration_scale,\n",
    "                  bliplength=10.0)\n",
    "\n",
    "Tone.play(autoplay=False)\n",
    "Tone.save(filename='harmonic_test.wav')"
   ]
  },
  {
   "cell_type": "code",
   "execution_count": 66,
   "id": "pressed-gross",
   "metadata": {},
   "outputs": [
    {
     "name": "stdout",
     "output_type": "stream",
     "text": [
      "multitones created\n",
      "Writing ./tones/beat_test.wav\n",
      "Saved multitone as ./tones/beat_test.wav.\n"
     ]
    }
   ],
   "source": [
    "#Test 3: Beat frequencies!\n",
    "\n",
    "\n",
    "x = [0, 0, 5, 5 ]\n",
    "f = [0.5, 0.51, 0.5, 0.51 ]\n",
    "\n",
    "fmin = np.min(f)\n",
    "fmax = np.max(f)\n",
    "\n",
    "from sonipy.scales.frequency import cent_per_value\n",
    "\n",
    "frequency_args = {\n",
    "  'frequency_min' : C4,\n",
    "  'frequency_max' : C4 * 4,\n",
    "  #'cents_per_value' : 100*cent_per_value(0.1*C4, C4*2, 0, 10),\n",
    "  'value_min' : 0,\n",
    "  'value_max' : 10,\n",
    "}\n",
    "\n",
    "Tone = SonifyTool(x, f,\n",
    "                  frequency_args = frequency_args,\n",
    "                  duration_args = duration_args,\n",
    "                  # duration_scale = duration_scale,\n",
    "                  bliplength=10.0)\n",
    "\n",
    "Tone.play(autoplay=False)\n",
    "Tone.save(filename='beat_test.wav')"
   ]
  },
  {
   "cell_type": "code",
   "execution_count": 68,
   "id": "narrow-chick",
   "metadata": {},
   "outputs": [
    {
     "name": "stdout",
     "output_type": "stream",
     "text": [
      "multitones created\n",
      "Writing ./tones/real_test.wav\n",
      "Saved multitone as ./tones/real_test.wav.\n"
     ]
    }
   ],
   "source": [
    "#Test 4: Real frequencies!\n",
    "\n",
    "fs = [1.5934130435232357,\n",
    "2.670600873347266,\n",
    "1.3352760733174782,\n",
    "1.174356381382765,\n",
    "1.1766514821613374,\n",
    "6.373770917259356,\n",
    "2.6730952492721083,\n",
    "2.5731123832919827,\n",
    "2.6681133814131535,\n",
    "1.3329193018912542,\n",
    "4.005846760423349,\n",
    "2.3487292150496826,\n",
    "5.341234309110732,\n",
    "4.780217652685681,\n",
    "3.18677301314134,\n",
    "3.5231263565939126,\n",
    "4.003429443128147]\n",
    "\n",
    "f = np.tile(fs, 2)\n",
    "\n",
    "x = np.concatenate((np.zeros_like(fs),np.tile([5],len(fs))))\n",
    "\n",
    "frequency_args = {\n",
    "  'frequency_min' : C4,\n",
    "  'frequency_max' : C4 * 4,\n",
    "  #'cents_per_value' : 100*cent_per_value(0.1*C4, C4*2, 0, 10),\n",
    "  'value_min' : 0,\n",
    "  'value_max' : 10,\n",
    "}\n",
    "\n",
    "Tone = SonifyTool(x, f,\n",
    "                  frequency_args = frequency_args,\n",
    "                  duration_args = duration_args,\n",
    "                  # duration_scale = duration_scale,\n",
    "                  bliplength=10.0)\n",
    "\n",
    "Tone.play(autoplay=False)\n",
    "Tone.save(filename='real_test.wav')"
   ]
  },
  {
   "cell_type": "code",
   "execution_count": 69,
   "id": "following-compound",
   "metadata": {},
   "outputs": [
    {
     "name": "stderr",
     "output_type": "stream",
     "text": [
      "/Users/carina/anaconda3/lib/python3.7/site-packages/sonipy-1.1-py3.7.egg/sonipy/thinkdsp.py:292: MatplotlibDeprecationWarning: shading='flat' when X and Y have the same dimensions as C is deprecated since 3.3.  Either specify the corners of the quadrilaterals with X and Y, or pass shading='auto', 'nearest' or 'gouraud', or set rcParams['pcolor.shading'].  This will become an error two minor releases later.\n"
     ]
    },
    {
     "data": {
      "image/png": "[encoded data removed]",
      "text/plain": [
       "<Figure size 432x288 with 1 Axes>"
      ]
     },
     "metadata": {
      "needs_background": "light"
     },
     "output_type": "display_data"
    }
   ],
   "source": [
    "Tone.plotSpectrogram()"
   ]
  },
  {
   "cell_type": "code",
   "execution_count": null,
   "id": "third-amazon",
   "metadata": {},
   "outputs": [],
   "source": []
  }
 ],
 "metadata": {
  "kernelspec": {
   "display_name": "Python 3",
   "language": "python",
   "name": "python3"
  },
  "language_info": {
   "codemirror_mode": {
    "name": "ipython",
    "version": 3
   },
   "file_extension": ".py",
   "mimetype": "text/x-python",
   "name": "python",
   "nbconvert_exporter": "python",
   "pygments_lexer": "ipython3",
   "version": "3.7.4"
  }
 },
 "nbformat": 4,
 "nbformat_minor": 5
}
