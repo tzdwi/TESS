{
 "cells": [
  {
   "cell_type": "code",
   "execution_count": 2,
   "id": "285f3844",
   "metadata": {},
   "outputs": [],
   "source": [
    "import numpy as np\n",
    "from matplotlib import pyplot as plt\n",
    "import pandas as pd\n",
    "import astropy.units as u\n",
    "\n",
    "import pysynphot as sp"
   ]
  },
  {
   "cell_type": "code",
   "execution_count": 2,
   "id": "bc008f12",
   "metadata": {},
   "outputs": [
    {
     "data": {
      "text/plain": [
       "'1.0.0'"
      ]
     },
     "execution_count": 2,
     "metadata": {},
     "output_type": "execute_result"
    }
   ],
   "source": [
    "from pysynphot import __version__ as psver\n",
    "psver"
   ]
  },
  {
   "cell_type": "code",
   "execution_count": 6,
   "id": "e1d0b443",
   "metadata": {},
   "outputs": [],
   "source": [
    "feh_lmc = -0.5\n",
    "feh_smc = -1.0\n",
    "\n",
    "ebv_lmc = 0.13 # Massey et al. 2007\n",
    "ebv_smc = 0.09\n",
    "\n",
    "lmc_ext = sp.reddening.Extinction(ebv_lmc,'lmcavg') #Gordon et al. (2003, ApJ, 594, 279) R_V = 3.41)\n",
    "smc_ext = sp.reddening.Extinction(ebv_smc,'smcbar') #R_V=2.74\n",
    "\n",
    "\n",
    "#Values for B stars from Silaj et al. 2014, ApJ, 795:82 https://iopscience.iop.org/article/10.1088/0004-637X/795/1/82/pdf\n",
    "B0_Teff = 2.5e4\n",
    "B0_logg = 4.0\n",
    "B0_R = (10.0 * u.Rsun).to(u.pc)\n",
    "B9_Teff = 1.06e4\n",
    "B9_logg = 4.1\n",
    "B9_R = (2.7 * u.Rsun).to(u.pc)"
   ]
  },
  {
   "cell_type": "code",
   "execution_count": 7,
   "id": "f489a448",
   "metadata": {},
   "outputs": [
    {
     "name": "stdout",
     "output_type": "stream",
     "text": [
      "(TESS) does not have a defined binset in the wavecat table. The waveset of the spectrum will be used instead.\n"
     ]
    },
    {
     "data": {
      "text/plain": [
       "-27.118853442069746"
      ]
     },
     "execution_count": 7,
     "metadata": {},
     "output_type": "execute_result"
    }
   ],
   "source": [
    "#Some bookkeeping: we're going to load in the TESS bandpass, convolve with Vega to derive the zero-point\n",
    "vega = sp.Vega\n",
    "\n",
    "T_df = pd.read_csv('../data/tess-response-function-v2.0.csv',skiprows=7,names=['Wavelength','Transmission'])\n",
    "T_bp = sp.ArrayBandpass(T_df['Wavelength'].values * 10.0, T_df['Transmission'], name='TESS')\n",
    "\n",
    "vega_obs = sp.Observation(vega, T_bp)\n",
    "vega_zp = vega_obs.effstim('obmag')\n",
    "vega_zp"
   ]
  },
  {
   "cell_type": "code",
   "execution_count": 5,
   "id": "6fc4e325",
   "metadata": {},
   "outputs": [
    {
     "name": "stdout",
     "output_type": "stream",
     "text": [
      "(TESS) does not have a defined binset in the wavecat table. The waveset of the spectrum will be used instead.\n",
      "(TESS) does not have a defined binset in the wavecat table. The waveset of the spectrum will be used instead.\n",
      "Main sequence B stars in the LMC have typical TESS magnitudes of 14.965109540878695-19.233247338692518\n",
      "(TESS) does not have a defined binset in the wavecat table. The waveset of the spectrum will be used instead.\n",
      "(TESS) does not have a defined binset in the wavecat table. The waveset of the spectrum will be used instead.\n",
      "Main sequence B stars in the SMC have typical TESS magnitudes of 15.350051026668217-19.60559564527261\n"
     ]
    }
   ],
   "source": [
    "for gal,met,dm,ext in zip(['LMC','SMC'],[feh_lmc,feh_smc],[18.52,19.05],[lmc_ext,smc_ext]): #distance moduli from Kovacs 2000a,b\n",
    "    \n",
    "    dist = np.power(10.0, 1+(dm / 5.0)) * u.pc\n",
    "    \n",
    "    B0_cat = sp.Icat('k93models', B0_Teff, met, B0_logg) #Kurucz 1993 models\n",
    "    B0_flux = B0_cat.flux * (B0_R/dist)**2.0\n",
    "    B0 = sp.ArraySpectrum(B0_cat.wave,B0_flux,fluxunits='flam')\n",
    "    B0_red = B0*ext\n",
    "    B0_obs = sp.Observation(B0_red, T_bp)\n",
    "    B0_mag = B0_obs.effstim('vegamag') #- vega_zp\n",
    "    \n",
    "    B9_cat = sp.Icat('k93models', B9_Teff, met, B9_logg) #Kurucz 1993 models\n",
    "    B9_flux = B9_cat.flux * (B9_R/dist)**2.0\n",
    "    B9 = sp.ArraySpectrum(B9_cat.wave,B9_flux,fluxunits='flam')\n",
    "    B9_red = B9*ext\n",
    "    B9_obs = sp.Observation(B9_red, T_bp)\n",
    "    B9_mag = B9_obs.effstim('vegamag') #- vega_zp\n",
    "    \n",
    "    print(f'Main sequence B stars in the {gal} have typical TESS magnitudes of {B0_mag}-{B9_mag}')"
   ]
  },
  {
   "cell_type": "code",
   "execution_count": 13,
   "id": "5a8641be",
   "metadata": {},
   "outputs": [],
   "source": [
    "F0Ia_temp = 6350\n",
    "F0Ia_logg = 1.9 # alpha Per Lyubimkov+10\n",
    "\n",
    "rig_teff = 12000\n",
    "rig_logg = 2.5\n",
    "\n",
    "met = -0.5 \n",
    "dist = np.power(10.0, 1+(18.52 / 5.0)) * u.pc\n",
    "\n",
    "F0_cat = sp.Icat('k93models', F0Ia_temp, met, F0Ia_logg)\n",
    "\n",
    "rig_cat = sp.Icat('k93models', rig_teff, met, rig_logg)\n",
    "B0_cat = sp.Icat('k93models', B0_Teff, met, B0_logg)\n",
    "\n",
    "F0_flux = F0_cat.flux * ((200.0 * u.Rsun).to(u.pc)/dist)**2.0 \n",
    "F0 = sp.ArraySpectrum(F0_cat.wave,F0_flux,fluxunits='flam') * lmc_ext\n",
    "rig_flux = rig_cat.flux * ((50.0 * u.Rsun).to(u.pc)/dist)**2.0 \n",
    "rig = sp.ArraySpectrum(rig_cat.wave,rig_flux,fluxunits='flam') * lmc_ext\n",
    "B0_flux = B0_cat.flux * (B0_R/dist)**2.0\n",
    "B0 = sp.ArraySpectrum(B0_cat.wave,B0_flux,fluxunits='flam') * lmc_ext"
   ]
  },
  {
   "cell_type": "code",
   "execution_count": 22,
   "id": "0947a0af",
   "metadata": {},
   "outputs": [
    {
     "data": {
      "text/plain": [
       "(1e-14, 1e-13)"
      ]
     },
     "execution_count": 22,
     "metadata": {},
     "output_type": "execute_result"
    },
    {
     "data": {
      "image/png": "[encoded data removed]",
      "text/plain": [
       "<Figure size 432x288 with 1 Axes>"
      ]
     },
     "metadata": {
      "needs_background": "light"
     },
     "output_type": "display_data"
    }
   ],
   "source": [
    "plt.plot(F0.wave,F0.flux)\n",
    "plt.plot(F0.wave,F0.flux+B0.flux)\n",
    "plt.xlim(3000,5000)\n",
    "plt.ylim(0.1e-13,1.0e-13)"
   ]
  },
  {
   "cell_type": "code",
   "execution_count": 8,
   "id": "ab64f987",
   "metadata": {},
   "outputs": [
    {
     "name": "stdout",
     "output_type": "stream",
     "text": [
      "4.241674284527307 4.2838719643217615\n",
      "(TESS) does not have a defined binset in the wavecat table. The waveset of the spectrum will be used instead.\n",
      "(TESS) does not have a defined binset in the wavecat table. The waveset of the spectrum will be used instead.\n",
      "Main sequence A stars in the LMC have typical TESS magnitudes of 20.224457461998693-21.46184924824732\n",
      "(TESS) does not have a defined binset in the wavecat table. The waveset of the spectrum will be used instead.\n",
      "(TESS) does not have a defined binset in the wavecat table. The waveset of the spectrum will be used instead.\n",
      "Main sequence A stars in the SMC have typical TESS magnitudes of 20.59512953899394-21.83747046382551\n"
     ]
    }
   ],
   "source": [
    "A0_teff = 1e4\n",
    "A9_teff = 7.5e3\n",
    "A0_mass = 2.1\n",
    "A9_mass = 1.4\n",
    "A0_rad = 1.8\n",
    "A9_rad = 1.4\n",
    "\n",
    "sun_logg = 4.43\n",
    "\n",
    "A0_logg = np.log10(np.power(10.0,sun_logg) * A0_mass / (A0_rad ** 2.0))\n",
    "A9_logg = np.log10(np.power(10.0,sun_logg) * A9_mass / (A9_rad ** 2.0))\n",
    "print(A0_logg,A9_logg)\n",
    "\n",
    "for gal,met,dm,ext in zip(['LMC','SMC'],[feh_lmc,feh_smc],[18.52,19.05],[lmc_ext,smc_ext]): #distance moduli from Kovacs 2000a,b\n",
    "    \n",
    "    dist = np.power(10.0, 1+(dm / 5.0)) * u.pc\n",
    "    \n",
    "    A0_cat = sp.Icat('k93models', A0_teff, met, A0_logg) #Kurucz 1993 models\n",
    "    A0_flux = A0_cat.flux * ((A0_rad*u.Rsun).to(u.pc)/dist)**2.0\n",
    "    A0 = sp.ArraySpectrum(A0_cat.wave,A0_flux,fluxunits='flam')\n",
    "    A0_red = A0*ext\n",
    "    A0_obs = sp.Observation(A0_red, T_bp)\n",
    "    A0_mag = A0_obs.effstim('vegamag') #- vega_zp\n",
    "    \n",
    "    A9_cat = sp.Icat('k93models', A9_teff, met, A9_logg) #Kurucz 1993 models\n",
    "    A9_flux = A9_cat.flux * ((A9_rad*u.Rsun).to(u.pc)/dist)**2.0\n",
    "    A9 = sp.ArraySpectrum(A9_cat.wave,A9_flux,fluxunits='flam')\n",
    "    A9_red = A9*ext\n",
    "    A9_obs = sp.Observation(A9_red, T_bp)\n",
    "    A9_mag = A9_obs.effstim('vegamag') #- vega_zp\n",
    "    \n",
    "    \n",
    "    print(f'Main sequence A stars in the {gal} have typical TESS magnitudes of {A0_mag}-{A9_mag}')"
   ]
  },
  {
   "cell_type": "code",
   "execution_count": null,
   "id": "dd2d682d",
   "metadata": {},
   "outputs": [],
   "source": []
  }
 ],
 "metadata": {
  "kernelspec": {
   "display_name": "Python 3",
   "language": "python",
   "name": "python3"
  },
  "language_info": {
   "codemirror_mode": {
    "name": "ipython",
    "version": 3
   },
   "file_extension": ".py",
   "mimetype": "text/x-python",
   "name": "python",
   "nbconvert_exporter": "python",
   "pygments_lexer": "ipython3",
   "version": "3.7.4"
  }
 },
 "nbformat": 4,
 "nbformat_minor": 5
}
