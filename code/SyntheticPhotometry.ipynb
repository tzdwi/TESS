{
 "cells": [
  {
   "cell_type": "code",
   "execution_count": 1,
   "id": "missing-ballot",
   "metadata": {},
   "outputs": [],
   "source": [
    "import numpy as np\n",
    "from matplotlib import pyplot as plt\n",
    "import pandas as pd\n",
    "import astropy.units as u\n",
    "\n",
    "import pysynphot as sp"
   ]
  },
  {
   "cell_type": "code",
   "execution_count": 2,
   "id": "crude-bracket",
   "metadata": {},
   "outputs": [],
   "source": [
    "feh_lmc = -0.5\n",
    "feh_smc = -1.0\n",
    "\n",
    "ebv_lmc = 0.13 # Massey et al. 2007\n",
    "ebv_smc = 0.09\n",
    "\n",
    "lmc_ext = sp.reddening.Extinction(ebv_lmc,'lmcavg') #Gordon et al. (2003, ApJ, 594, 279) R_V = 3.41)\n",
    "smc_ext = sp.reddening.Extinction(ebv_smc,'smcbar') #R_V=2.74\n",
    "\n",
    "\n",
    "#Values for B stars from Silaj et al. 2014, ApJ, 795:82 https://iopscience.iop.org/article/10.1088/0004-637X/795/1/82/pdf\n",
    "B0_Teff = 2.5e4\n",
    "B0_logg = 4.0\n",
    "B0_R = (10.0 * u.Rsun).to(u.pc)\n",
    "B9_Teff = 1.06e4\n",
    "B9_logg = 4.1\n",
    "B9_R = (2.7 * u.Rsun).to(u.pc)"
   ]
  },
  {
   "cell_type": "code",
   "execution_count": 3,
   "id": "assured-demand",
   "metadata": {},
   "outputs": [
    {
     "name": "stdout",
     "output_type": "stream",
     "text": [
      "(TESS) does not have a defined binset in the wavecat table. The waveset of the spectrum will be used instead.\n"
     ]
    },
    {
     "data": {
      "text/plain": [
       "-27.118853442069746"
      ]
     },
     "execution_count": 3,
     "metadata": {},
     "output_type": "execute_result"
    }
   ],
   "source": [
    "#Some bookkeeping: we're going to load in the TESS bandpass, convolve with Vega to derive the zero-point\n",
    "vega = sp.Vega\n",
    "\n",
    "T_df = pd.read_csv('../data/tess-response-function-v2.0.csv',skiprows=7,names=['Wavelength','Transmission'])\n",
    "T_bp = sp.ArrayBandpass(T_df['Wavelength'].values * 10.0, T_df['Transmission'], name='TESS')\n",
    "\n",
    "vega_obs = sp.Observation(vega, T_bp)\n",
    "vega_zp = vega_obs.effstim('obmag')\n",
    "vega_zp"
   ]
  },
  {
   "cell_type": "code",
   "execution_count": 4,
   "id": "objective-junior",
   "metadata": {},
   "outputs": [
    {
     "name": "stdout",
     "output_type": "stream",
     "text": [
      "(TESS) does not have a defined binset in the wavecat table. The waveset of the spectrum will be used instead.\n",
      "(TESS) does not have a defined binset in the wavecat table. The waveset of the spectrum will be used instead.\n",
      "Main sequence B stars in the LMC have typical TESS magnitudes of 14.965109540878695-19.233247338692518\n",
      "(TESS) does not have a defined binset in the wavecat table. The waveset of the spectrum will be used instead.\n",
      "(TESS) does not have a defined binset in the wavecat table. The waveset of the spectrum will be used instead.\n",
      "Main sequence B stars in the SMC have typical TESS magnitudes of 15.350051026668217-19.60559564527261\n"
     ]
    }
   ],
   "source": [
    "for gal,met,dm,ext in zip(['LMC','SMC'],[feh_lmc,feh_smc],[18.52,19.05],[lmc_ext,smc_ext]): #distance moduli from Kovacs 2000a,b\n",
    "    \n",
    "    dist = np.power(10.0, 1+(dm / 5.0)) * u.pc\n",
    "    \n",
    "    B0_cat = sp.Icat('k93models', B0_Teff, met, B0_logg) #Kurucz 1993 models\n",
    "    B0_flux = B0_cat.flux * (B0_R/dist)**2.0\n",
    "    B0 = sp.ArraySpectrum(B0_cat.wave,B0_flux,fluxunits='flam')\n",
    "    B0_red = B0*ext\n",
    "    B0_obs = sp.Observation(B0_red, T_bp)\n",
    "    B0_mag = B0_obs.effstim('vegamag') #- vega_zp\n",
    "    \n",
    "    B9_cat = sp.Icat('k93models', B9_Teff, met, B9_logg) #Kurucz 1993 models\n",
    "    B9_flux = B9_cat.flux * (B9_R/dist)**2.0\n",
    "    B9 = sp.ArraySpectrum(B9_cat.wave,B9_flux,fluxunits='flam')\n",
    "    B9_red = B9*ext\n",
    "    B9_obs = sp.Observation(B9_red, T_bp)\n",
    "    B9_mag = B9_obs.effstim('vegamag') #- vega_zp\n",
    "    \n",
    "    print(f'Main sequence B stars in the {gal} have typical TESS magnitudes of {B0_mag}-{B9_mag}')"
   ]
  },
  {
   "cell_type": "code",
   "execution_count": null,
   "id": "incorrect-gallery",
   "metadata": {},
   "outputs": [],
   "source": []
  }
 ],
 "metadata": {
  "kernelspec": {
   "display_name": "Python 3",
   "language": "python",
   "name": "python3"
  },
  "language_info": {
   "codemirror_mode": {
    "name": "ipython",
    "version": 3
   },
   "file_extension": ".py",
   "mimetype": "text/x-python",
   "name": "python",
   "nbconvert_exporter": "python",
   "pygments_lexer": "ipython3",
   "version": "3.7.4"
  }
 },
 "nbformat": 4,
 "nbformat_minor": 5
}
