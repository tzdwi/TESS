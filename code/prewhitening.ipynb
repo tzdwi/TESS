{
 "cells": [
  {
   "cell_type": "code",
   "execution_count": 1,
   "metadata": {},
   "outputs": [],
   "source": [
    "import numpy as np\n",
    "import pandas as pd\n",
    "from astropy.table import Table, vstack\n",
    "from matplotlib import pyplot as plt\n",
    "from glob import glob\n",
    "from astropy.stats import LombScargle\n",
    "from scipy import stats\n",
    "from scipy.optimize import curve_fit\n",
    "import warnings\n",
    "from TESStools import *\n",
    "import celerite\n",
    "from celerite import terms\n",
    "from scipy.optimize import minimize\n",
    "from tqdm.notebook import tqdm"
   ]
  },
  {
   "cell_type": "code",
   "execution_count": 2,
   "metadata": {},
   "outputs": [],
   "source": [
    "fyps = pd.read_csv('fyps.csv')"
   ]
  },
  {
   "cell_type": "code",
   "execution_count": 8,
   "metadata": {},
   "outputs": [
    {
     "data": {
      "application/vnd.jupyter.widget-view+json": {
       "model_id": "d54e7b1105714f469bab0db8e0e57eaf",
       "version_major": 2,
       "version_minor": 0
      },
      "text/plain": [
       "HBox(children=(IntProgress(value=0, max=5), HTML(value='')))"
      ]
     },
     "metadata": {},
     "output_type": "display_data"
    },
    {
     "name": "stdout",
     "output_type": "stream",
     "text": [
      "HD 269953\n",
      "Found 4 frequencies\n",
      "4 unique frequencies\n",
      "HD 269110\n",
      "Found 4 frequencies\n",
      "4 unique frequencies\n",
      "HD 268687\n",
      "Found 6 frequencies\n",
      "6 unique frequencies\n",
      "HD 269840\n",
      "Found 7 frequencies\n",
      "7 unique frequencies\n",
      "HD 269902\n",
      "Found 3 frequencies\n",
      "3 unique frequencies\n",
      "\n"
     ]
    }
   ],
   "source": [
    "header = ''\n",
    "syms = ['^*','^\\\\dagger','^\\\\ddagger','^\\\\dagger^\\\\dagger','^\\\\ddagger^\\\\ddagger']\n",
    "for i, star in tqdm(fyps.iterrows(),total=len(fyps)):\n",
    "    \n",
    "    fname = star['CommonName']\n",
    "    print(fname)\n",
    "    tic = star['TIC ID']\n",
    "    \n",
    "    lc, lc_smooth = lc_extract(get_lc_from_id(tic), smooth=128)\n",
    "    time, flux, err = lc['Time'], lc['Flux'], lc['Err']\n",
    "    \n",
    "    good_fs, good_amps, good_phases, good_snrs, good_peaks = prewhiten_harmonic(time, flux, err)\n",
    " \n",
    "    harmonics = harmonic_search(good_fs)\n",
    "    \n",
    "    bases = np.unique(harmonics[0])\n",
    "    \n",
    "    inds = [np.where(good_fs[:,0] == b)[0][0] for b in bases]\n",
    "    \n",
    "    bases = bases[np.argsort(inds)]\n",
    "    \n",
    "    sym_dict = {base:syms[i] for i,base in enumerate(bases)}\n",
    "    f_dict = {syms[i]:base for i,base in enumerate(bases)}\n",
    "\n",
    "    harmonics_flag = True\n",
    "    \n",
    "    combos = combo_search(good_fs)\n",
    "    \n",
    "    combo_footnote = ''\n",
    "    for c in combos.T:\n",
    "        i_0 = np.where(good_fs == c[0])[0][0]\n",
    "        i_1 = np.where(good_fs == c[1])[0][0]\n",
    "        i_2 = np.where(good_fs == c[2])[0][0]\n",
    "        combo_footnote += f'$f_{i_2} = f_{i_0} + f_{i_1}$. '\n",
    "\n",
    "    \n",
    "    header += r\"\"\"\\begin{{deluxetable*}}{{lcccccccc}}\n",
    "\\tabletypesize{{\\footnotesize}}\n",
    "\\tablecaption{{Unique frequencies, amplitudes, phases, and formal errors for {0} found via prewhitening. For each frequency, we specify the SNR as defined in text, and the height of the associated peak in the RPS at that stage of prewhitening.\\label{{tab:{0}_freqs}}}}\n",
    "\\tablehead{{\\colhead{{Frequency}} & \\colhead{{$f_j$}} & \\colhead{{$\\epsilon(f_j)$}} & \\colhead{{$A_j$}} & \\colhead{{$\\epsilon(A_j)$}} & \\colhead{{$\\phi_j$}} &  \\colhead{{$\\epsilon(\\phi_j)$}} & \\colhead{{SNR}} & \\colhead{{RPS Peak Height}}\\\\\n",
    "\\colhead{{}} & \\colhead{{[day$^{{-1}}$]}} & \\colhead{{[day$^{{-1}}$]}} & \\colhead{{[ppt]}} & \\colhead{{[ppt]}} & \\colhead{{[radians]}} & \\colhead{{[radians]}} & \\colhead{{}} & \\colhead{{}} }} \n",
    "\\startdata\n",
    "\"\"\".format(fname)\n",
    "    for j,(f,a,p,s,pk) in enumerate(zip(good_fs,good_amps,good_phases,good_snrs,good_peaks)):\n",
    "        row = f'$f_{{{int(j)}}}'\n",
    "        if harmonics_flag:\n",
    "            try:\n",
    "                for b in harmonics[0][harmonics[1] == f[0]]:\n",
    "                    row += sym_dict[b]\n",
    "            except:\n",
    "                harmonics_flag = False\n",
    "        row += '$'\n",
    "            \n",
    "        header += row + f\"& ${f[0]:.8f}$ & ${f[1]:.8f}$ & ${a[0]*1e3:.8f}$ & ${a[1]*1e3:.8f}$ & ${p[0]:.4f}$ & ${p[1]:.4f}$ & {s:.4f} & {pk:.4f} \\\\\\\\ \\n\".replace('e','\\\\times10^{')\n",
    "    header.rstrip()\n",
    "    header.rstrip('\\\\')\n",
    "    header.rstrip()\n",
    "    header += '\\\\enddata \\n'\n",
    "    if harmonics_flag:\n",
    "        header += r'\\tablecomments{'\n",
    "        for k in f_dict.keys():\n",
    "            f_ind = np.where(good_fs[:,0] == f_dict[k])[0][0]\n",
    "            header += f'${k.replace(\"^\",\"\")}$: harmonics of $f_{{{f_ind}}}$. '\n",
    "        header += combo_footnote\n",
    "        header += '} \\n'\n",
    "    else:\n",
    "        if len(combo_footnote) > 0:\n",
    "            header += r'\\tablecomments{'\n",
    "            header += combo_footnote\n",
    "            header += '} \\n'\n",
    "\n",
    "    header += '\\\\end{deluxetable*} \\n\\n'\n",
    "\n",
    "    \n",
    "    \n",
    "with open(\"appendix_deluxetable.txt\", \"w\") as text_file:\n",
    "        text_file.write(header)"
   ]
  },
  {
   "cell_type": "code",
   "execution_count": 9,
   "metadata": {},
   "outputs": [
    {
     "data": {
      "text/plain": [
       "0"
      ]
     },
     "execution_count": 9,
     "metadata": {},
     "output_type": "execute_result"
    }
   ],
   "source": [
    "len(combo_footnote)"
   ]
  },
  {
   "cell_type": "code",
   "execution_count": null,
   "metadata": {},
   "outputs": [],
   "source": []
  }
 ],
 "metadata": {
  "kernelspec": {
   "display_name": "Python 3",
   "language": "python",
   "name": "python3"
  },
  "language_info": {
   "codemirror_mode": {
    "name": "ipython",
    "version": 3
   },
   "file_extension": ".py",
   "mimetype": "text/x-python",
   "name": "python",
   "nbconvert_exporter": "python",
   "pygments_lexer": "ipython3",
   "version": "3.7.4"
  }
 },
 "nbformat": 4,
 "nbformat_minor": 4
}
