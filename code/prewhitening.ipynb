{
 "cells": [
  {
   "cell_type": "code",
   "execution_count": 1,
   "metadata": {},
   "outputs": [],
   "source": [
    "import numpy as np\n",
    "import pandas as pd\n",
    "from astropy.table import Table, vstack\n",
    "from matplotlib import pyplot as plt\n",
    "from glob import glob\n",
    "from astropy.stats import LombScargle\n",
    "from scipy import stats\n",
    "from scipy.optimize import curve_fit\n",
    "import warnings\n",
    "from TESStools import *\n",
    "import celerite\n",
    "from celerite import terms\n",
    "from scipy.optimize import minimize"
   ]
  },
  {
   "cell_type": "code",
   "execution_count": 2,
   "metadata": {},
   "outputs": [],
   "source": [
    "paper_tics = [404850274,389437365,389565293,40404470,29984014,279957111,179305185]"
   ]
  },
  {
   "cell_type": "code",
   "execution_count": 8,
   "metadata": {},
   "outputs": [
    {
     "name": "stdout",
     "output_type": "stream",
     "text": [
      "HD 269953\n",
      "f_Ny = 323.89171072083246, f_R = 0.01778794028727421\n",
      "10\n",
      "Found 14 frequencies\n",
      "14 unique frequencies\n",
      "HD 270046\n",
      "f_Ny = 322.76203971547, f_R = 0.017787932748165886\n",
      "10\n",
      "Found 14 frequencies\n",
      "10 unique frequencies\n",
      "HD 270111\n",
      "f_Ny = 324.59880106819276, f_R = 0.03586727083626439\n",
      "Found 7 frequencies\n",
      "6 unique frequencies\n",
      "HD 269110\n",
      "f_Ny = 323.7577400015701, f_R = 0.017787909455610686\n",
      "10\n",
      "Found 11 frequencies\n",
      "7 unique frequencies\n",
      "HD 268687\n"
     ]
    },
    {
     "name": "stderr",
     "output_type": "stream",
     "text": [
      "/Volumes/shoobert/Research/UW/TESS/code/TESStools.py:111: RankWarning: Polyfit may be poorly conditioned\n",
      "  p = np.polyfit(lc['Time'].values,lc['Flux'].values,deg=deg)\n"
     ]
    },
    {
     "name": "stdout",
     "output_type": "stream",
     "text": [
      "f_Ny = 323.83746567083887, f_R = 0.017787891882718898\n",
      "10\n",
      "20\n",
      "30\n",
      "40\n",
      "50\n",
      "60\n",
      "Found 64 frequencies\n",
      "33 unique frequencies\n",
      "HD 269582\n",
      "f_Ny = 332.52345927965945, f_R = 0.036490914598590884\n",
      "10\n",
      "20\n",
      "30\n",
      "Found 33 frequencies\n",
      "25 unique frequencies\n",
      " S Dor\n",
      "f_Ny = 322.8060468379108, f_R = 0.0177879072510214\n",
      "10\n",
      "20\n",
      "30\n",
      "40\n",
      "50\n",
      "60\n",
      "70\n",
      "Found 71 frequencies\n",
      "41 unique frequencies\n"
     ]
    }
   ],
   "source": [
    "for i, tid in enumerate(paper_tics):\n",
    "    \n",
    "    fname = np.unique(massive['CommonName'][massive['ticid']==tid])[0].replace('*','').replace('V','')\n",
    "    print(fname)\n",
    "    lc, lc_smooth = lc_extract(get_lc_from_id(tid), smooth=128)\n",
    "    \n",
    "    if (fname == 'HD 268687'):\n",
    "        lc, p = polynorm(lc, deg=7)\n",
    "        time, flux, err = lc['Time'], lc['NormFlux'], lc['NormErr']\n",
    "    else:\n",
    "        time, flux, err = lc['Time'], lc['Flux'], lc['Err']\n",
    "    \n",
    "    good_fs, good_amps, good_phases = prewhiten(time, flux, err)\n",
    "    \n",
    "    header = r\"\"\"\\begin{{deluxetable*}}{{cccccc}}\n",
    "\\tabletypesize{{\\footnotesize}}\n",
    "\\tablecaption{{Unique frequencies, amplitudes, phases, and formal errors for {0} found via prewhitening.\\label{{tab:{0}_freqs}}}}\n",
    "\\tablehead{{\\colhead{{$f_j$}} & \\colhead{{$\\epsilon(f_j)$}} & \\colhead{{$A_j$}} & \\colhead{{$\\epsilon(A_j)$}} & \\colhead{{$\\phi_j$}} &  \\colhead{{$\\epsilon(\\phi_j)$}} \\\\\n",
    "\\colhead{{[day$^{{-1}}$]}} & \\colhead{{[day$^{{-1}}$]}} & \\colhead{{[Normalized counts]}} & \\colhead{{[Normalized counts]}} & \\colhead{{[radians]}} & \\colhead{{[radians]}}}} \n",
    "\\startdata\n",
    "\"\"\".format(fname)\n",
    "    for f,a,p in zip(good_fs,good_amps,good_phases):\n",
    "        header += \"${0:.8f}$ & ${1:.8f}$ & ${2:.8f}$ & ${3:8f}$ & ${4:.4}$ & ${5:.4}$ \\\\\\\\ \\n\".format(f[0],f[1],a[0],a[1],p[0],p[1]).replace('e','\\\\times10^{')\n",
    "    \n",
    "    header += r\"\"\"\n",
    "\\enddata\n",
    "\\end{deluxetable*}\n",
    "\"\"\"\n",
    "    \n",
    "    with open(\"{}_deluxetable.txt\".format(fname), \"w\") as text_file:\n",
    "        text_file.write(header)"
   ]
  },
  {
   "cell_type": "code",
   "execution_count": null,
   "metadata": {},
   "outputs": [],
   "source": []
  }
 ],
 "metadata": {
  "kernelspec": {
   "display_name": "Python [default]",
   "language": "python",
   "name": "python3"
  },
  "language_info": {
   "codemirror_mode": {
    "name": "ipython",
    "version": 3
   },
   "file_extension": ".py",
   "mimetype": "text/x-python",
   "name": "python",
   "nbconvert_exporter": "python",
   "pygments_lexer": "ipython3",
   "version": "3.5.1"
  }
 },
 "nbformat": 4,
 "nbformat_minor": 2
}
