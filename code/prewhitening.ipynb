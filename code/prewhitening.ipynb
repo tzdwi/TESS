{
 "cells": [
  {
   "cell_type": "code",
   "execution_count": 4,
   "metadata": {},
   "outputs": [],
   "source": [
    "import numpy as np\n",
    "import pandas as pd\n",
    "from astropy.table import Table, vstack\n",
    "from matplotlib import pyplot as plt\n",
    "from glob import glob\n",
    "from astropy.stats import LombScargle\n",
    "from scipy import stats\n",
    "from scipy.optimize import curve_fit\n",
    "import warnings\n",
    "from TESStools import *\n",
    "import celerite\n",
    "from celerite import terms\n",
    "from scipy.optimize import minimize"
   ]
  },
  {
   "cell_type": "code",
   "execution_count": 2,
   "metadata": {},
   "outputs": [],
   "source": [
    "paper_tics = [179305185,404850274,279957111,389437365,389565293,179206253,40404470,29984014]"
   ]
  },
  {
   "cell_type": "code",
   "execution_count": 13,
   "metadata": {},
   "outputs": [],
   "source": [
    "def noise_func(f, alpha_0, tau, gamma, alpha_w):\n",
    "    return alpha_0 / (1.0 + np.power((2.0*np.pi*tau*f),gamma)) + alpha_w"
   ]
  },
  {
   "cell_type": "code",
   "execution_count": 14,
   "metadata": {},
   "outputs": [],
   "source": [
    "def log_noise(f, alpha_0, tau, gamma, alpha_w):\n",
    "    return np.log10(noise_func(f, alpha_0, tau, gamma, alpha_w))"
   ]
  },
  {
   "cell_type": "code",
   "execution_count": 43,
   "metadata": {},
   "outputs": [
    {
     "name": "stdout",
     "output_type": "stream",
     "text": [
      " S Dor\n"
     ]
    },
    {
     "name": "stderr",
     "output_type": "stream",
     "text": [
      "/Users/carina/anaconda/lib/python3.5/site-packages/ipykernel/__main__.py:2: RuntimeWarning: invalid value encountered in log10\n",
      "  from ipykernel import kernelapp as app\n"
     ]
    },
    {
     "name": "stdout",
     "output_type": "stream",
     "text": [
      "f_Ny = 322.8060468379108, f_R = 0.0177879072510214\n",
      "10\n",
      "20\n",
      "30\n",
      "40\n",
      "50\n",
      "60\n",
      "70\n",
      "Found 71 frequencies\n",
      "41 unique frequencies\n",
      "All freq RN significant? True\n",
      "HD 269953\n"
     ]
    },
    {
     "name": "stderr",
     "output_type": "stream",
     "text": [
      "/Users/carina/anaconda/lib/python3.5/site-packages/ipykernel/__main__.py:2: RuntimeWarning: invalid value encountered in log10\n",
      "  from ipykernel import kernelapp as app\n",
      "/Users/carina/anaconda/lib/python3.5/site-packages/ipykernel/__main__.py:2: RuntimeWarning: invalid value encountered in power\n",
      "  from ipykernel import kernelapp as app\n"
     ]
    },
    {
     "name": "stdout",
     "output_type": "stream",
     "text": [
      "f_Ny = 323.89171072083246, f_R = 0.01778794028727421\n",
      "10\n",
      "Found 14 frequencies\n",
      "14 unique frequencies\n",
      "All freq RN significant? True\n",
      "HD 269582\n"
     ]
    },
    {
     "name": "stderr",
     "output_type": "stream",
     "text": [
      "/Users/carina/anaconda/lib/python3.5/site-packages/ipykernel/__main__.py:2: RuntimeWarning: invalid value encountered in log10\n",
      "  from ipykernel import kernelapp as app\n",
      "/Users/carina/anaconda/lib/python3.5/site-packages/ipykernel/__main__.py:2: RuntimeWarning: invalid value encountered in power\n",
      "  from ipykernel import kernelapp as app\n"
     ]
    },
    {
     "name": "stdout",
     "output_type": "stream",
     "text": [
      "f_Ny = 332.52345927965945, f_R = 0.036490914598590884\n",
      "10\n",
      "20\n",
      "30\n",
      "Found 33 frequencies\n",
      "25 unique frequencies\n",
      "All freq RN significant? True\n",
      "HD 270046\n"
     ]
    },
    {
     "name": "stderr",
     "output_type": "stream",
     "text": [
      "/Users/carina/anaconda/lib/python3.5/site-packages/ipykernel/__main__.py:2: RuntimeWarning: invalid value encountered in log10\n",
      "  from ipykernel import kernelapp as app\n"
     ]
    },
    {
     "name": "stdout",
     "output_type": "stream",
     "text": [
      "f_Ny = 322.76203971547, f_R = 0.017787932748165886\n",
      "10\n",
      "Found 14 frequencies\n",
      "10 unique frequencies\n",
      "All freq RN significant? True\n",
      "HD 270111\n"
     ]
    },
    {
     "name": "stderr",
     "output_type": "stream",
     "text": [
      "/Users/carina/anaconda/lib/python3.5/site-packages/ipykernel/__main__.py:2: RuntimeWarning: invalid value encountered in log10\n",
      "  from ipykernel import kernelapp as app\n",
      "/Users/carina/anaconda/lib/python3.5/site-packages/ipykernel/__main__.py:2: RuntimeWarning: invalid value encountered in power\n",
      "  from ipykernel import kernelapp as app\n"
     ]
    },
    {
     "name": "stdout",
     "output_type": "stream",
     "text": [
      "f_Ny = 324.59880106819276, f_R = 0.03586727083626439\n",
      "Found 7 frequencies\n",
      "6 unique frequencies\n",
      "All freq RN significant? True\n",
      "HD 269331\n"
     ]
    },
    {
     "name": "stderr",
     "output_type": "stream",
     "text": [
      "/Users/carina/anaconda/lib/python3.5/site-packages/ipykernel/__main__.py:2: RuntimeWarning: invalid value encountered in log10\n",
      "  from ipykernel import kernelapp as app\n",
      "/Users/carina/anaconda/lib/python3.5/site-packages/ipykernel/__main__.py:2: RuntimeWarning: invalid value encountered in power\n",
      "  from ipykernel import kernelapp as app\n"
     ]
    },
    {
     "name": "stdout",
     "output_type": "stream",
     "text": [
      "f_Ny = 333.49073111685124, f_R = 0.03649094333262405\n",
      "10\n",
      "Found 10 frequencies\n",
      "6 unique frequencies\n",
      "All freq RN significant? True\n",
      "HD 269110\n"
     ]
    },
    {
     "name": "stderr",
     "output_type": "stream",
     "text": [
      "/Users/carina/anaconda/lib/python3.5/site-packages/ipykernel/__main__.py:2: RuntimeWarning: invalid value encountered in log10\n",
      "  from ipykernel import kernelapp as app\n",
      "/Users/carina/anaconda/lib/python3.5/site-packages/ipykernel/__main__.py:2: RuntimeWarning: invalid value encountered in power\n",
      "  from ipykernel import kernelapp as app\n"
     ]
    },
    {
     "name": "stdout",
     "output_type": "stream",
     "text": [
      "f_Ny = 323.7577400015701, f_R = 0.017787909455610686\n",
      "10\n",
      "Found 11 frequencies\n",
      "7 unique frequencies\n",
      "All freq RN significant? True\n",
      "HD 268687\n"
     ]
    },
    {
     "name": "stderr",
     "output_type": "stream",
     "text": [
      "/Volumes/shoobert/Research/UW/TESS/code/TESStools.py:111: RankWarning: Polyfit may be poorly conditioned\n",
      "  p = np.polyfit(lc['Time'].values,lc['Flux'].values,deg=deg)\n"
     ]
    },
    {
     "name": "stdout",
     "output_type": "stream",
     "text": [
      "1325.2963953179183 1.0037015815853616 0.0012825290463256078\n"
     ]
    },
    {
     "name": "stderr",
     "output_type": "stream",
     "text": [
      "/Users/carina/anaconda/lib/python3.5/site-packages/ipykernel/__main__.py:2: RuntimeWarning: invalid value encountered in log10\n",
      "  from ipykernel import kernelapp as app\n"
     ]
    },
    {
     "name": "stdout",
     "output_type": "stream",
     "text": [
      "f_Ny = 323.83746567083887, f_R = 0.017787891882718898\n",
      "10\n",
      "20\n",
      "30\n",
      "40\n",
      "50\n",
      "60\n",
      "Found 64 frequencies\n",
      "33 unique frequencies\n",
      "All freq RN significant? True\n"
     ]
    }
   ],
   "source": [
    "header = ''\n",
    "\n",
    "for i, tid in enumerate(paper_tics):\n",
    "    \n",
    "    #name and light curve\n",
    "    fname = np.unique(massive['CommonName'][massive['ticid']==tid])[0].replace('*','').replace('V','')\n",
    "    print(fname)\n",
    "    lc, lc_smooth = lc_extract(get_lc_from_id(tid), smooth=128)\n",
    "    \n",
    "    #normalization\n",
    "    if (fname == 'HD 268687'):\n",
    "        lc, p = polynorm(lc, deg=7)\n",
    "        time, flux, err = lc['Time'], lc['NormFlux'], lc['NormErr']\n",
    "        print(time[0],flux[0],err[0])\n",
    "    else:\n",
    "        time, flux, err = lc['Time'], lc['Flux'], lc['Err']\n",
    "    \n",
    "    pseudo_NF = 0.5 / (np.mean(np.diff(time)))\n",
    "    rayleigh = 1.0 / (np.max(time)-np.min(time))\n",
    "    \n",
    "    #calculate the ls object for white noise and red noise calculations (red noise is in power space)\n",
    "    ls_white = LombScargle(time, flux)\n",
    "    ls_red = LombScargle(time, flux, normalization='psd')\n",
    "    f_w, p_w = ls_white.autopower(minimum_frequency=1.0/30.0,\n",
    "                    maximum_frequency=pseudo_NF)\n",
    "    f_r, p_r = ls_red.autopower(minimum_frequency=1.0/30.0,\n",
    "                    maximum_frequency=pseudo_NF)\n",
    "    \n",
    "    #find power where FAL < 0.01\n",
    "    probabilities = [0.01]\n",
    "    fal = ls_white.false_alarm_level(probabilities)[0]\n",
    "    \n",
    "    #fit the psd periodogram with our noise function\n",
    "    p0 = [np.max(p_r), 1.0, 1.0, p_r[np.argmax(f_r)]]\n",
    "    bounds = (-np.inf,np.inf)\n",
    "    popt, pcov = curve_fit(log_noise, f_r, np.log10(p_r), bounds=bounds, p0=p0)\n",
    "    \n",
    "    #now, the integral of the noise function should be the variance of the flux * f_Ny\n",
    "    test_fs = np.logspace(np.log10(1.0/30.0),np.log10(pseudo_NF),1e5)\n",
    "    red_int = np.trapz(log_noise(test_fs,*popt),test_fs)\n",
    "    red_scale = np.var(flux)*pseudo_NF/red_int\n",
    "    \n",
    "    good_fs, good_amps, good_phases = prewhiten(time, flux, err)\n",
    "    \n",
    "    noise = np.std(flux)\n",
    "    snr = good_amps[:,0]/noise\n",
    "    \n",
    "    white_sig = np.array([p_w[np.argmin(np.abs(freq-f_w))] > fal for freq in good_fs[:,0]])\n",
    "    \n",
    "    red_Z = np.array([amp**2.0*len(time) / ((2.0*red_scale*log_noise(f,*popt))**2.0) for amp,f in zip(good_amps[:,0],good_fs[:,0])])\n",
    "    red_probs = 1.0 - np.exp(-np.exp(-0.93*red_Z+np.log(0.8*len(time))))\n",
    "    red_sig = red_probs < 0.01\n",
    "    print('All freq RN significant? {}'.format(np.all(red_sig)))\n",
    "    \n",
    "    header += r\"\"\"\\begin{{deluxetable*}}{{cccccccc}}\n",
    "\\tabletypesize{{\\footnotesize}}\n",
    "\\tablecaption{{Unique frequencies, amplitudes, phases, and formal errors for {0} found via prewhitening. For each frequency, we specify the signal to noise as defined in text, and whether the corresponding signal is significant under the assumption of white noise.\\label{{tab:{0}_freqs}}}}\n",
    "\\tablehead{{\\colhead{{$f_j$}} & \\colhead{{$\\epsilon(f_j)$}} & \\colhead{{$A_j$}} & \\colhead{{$\\epsilon(A_j)$}} & \\colhead{{$\\phi_j$}} &  \\colhead{{$\\epsilon(\\phi_j)$}} & \\colhead{{SNR}} & \\colhead{{White Noise Significant?}}\\\\\n",
    "\\colhead{{[day$^{{-1}}$]}} & \\colhead{{[day$^{{-1}}$]}} & \\colhead{{[ppt]}} & \\colhead{{[ppt]}} & \\colhead{{[radians]}} & \\colhead{{[radians]}} & \\colhead{{}} & \\colhead{{}} }} \n",
    "\\startdata\n",
    "\"\"\".format(fname)\n",
    "    for f,a,p,s,w,r in zip(good_fs,good_amps,good_phases,snr,white_sig,red_sig):\n",
    "        \n",
    "        if w:\n",
    "            wn = 'Y'\n",
    "        else:\n",
    "            wn = 'N'\n",
    "        if r:\n",
    "            rn = 'Y'\n",
    "        else:\n",
    "            rn = 'N'\n",
    "            \n",
    "        header += \"${0:.8f}$ & ${1:.8f}$ & ${2:.8f}$ & ${3:.8f}$ & ${4:.4f}$ & ${5:.4f}$ & {6:.4f} & {7} \\\\\\\\ \\n\".format(f[0],f[1],a[0]*1e3,a[1]*1e3,p[0],p[1],s,wn).replace('e','\\\\times10^{')\n",
    "    header.rstrip()\n",
    "    header.rstrip('\\\\')\n",
    "    header += r\"\"\"\n",
    "\\enddata\n",
    "\\end{deluxetable*}\n",
    "\n",
    "\"\"\"\n",
    "    \n",
    "with open(\"appendix_deluxetable.txt\", \"w\") as text_file:\n",
    "        text_file.write(header)"
   ]
  },
  {
   "cell_type": "code",
   "execution_count": null,
   "metadata": {},
   "outputs": [],
   "source": []
  }
 ],
 "metadata": {
  "kernelspec": {
   "display_name": "Python [conda env:anaconda]",
   "language": "python",
   "name": "conda-env-anaconda-py"
  },
  "language_info": {
   "codemirror_mode": {
    "name": "ipython",
    "version": 3
   },
   "file_extension": ".py",
   "mimetype": "text/x-python",
   "name": "python",
   "nbconvert_exporter": "python",
   "pygments_lexer": "ipython3",
   "version": "3.5.6"
  }
 },
 "nbformat": 4,
 "nbformat_minor": 2
}
