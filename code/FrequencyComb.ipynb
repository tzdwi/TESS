{
 "cells": [
  {
   "cell_type": "code",
   "execution_count": 1,
   "metadata": {},
   "outputs": [],
   "source": [
    "import numpy as np\n",
    "import pandas as pd\n",
    "from astropy.table import Table, vstack\n",
    "from matplotlib import pyplot as plt, cm as cm, colors as colors\n",
    "import matplotlib as mpl\n",
    "from matplotlib.gridspec import GridSpec\n",
    "from glob import glob\n",
    "from astropy.timeseries import LombScargle\n",
    "from scipy import stats\n",
    "import warnings\n",
    "from TESStools import *\n",
    "from tqdm.notebook import tqdm"
   ]
  },
  {
   "cell_type": "code",
   "execution_count": 2,
   "metadata": {},
   "outputs": [],
   "source": [
    "fyps = pd.read_csv('fyps.csv')"
   ]
  },
  {
   "cell_type": "code",
   "execution_count": 8,
   "metadata": {},
   "outputs": [
    {
     "name": "stdout",
     "output_type": "stream",
     "text": [
      "HD 268687\n",
      "Found 8 frequencies\n",
      "8 unique frequencies\n",
      "HD 269840\n",
      "10\n",
      "Found 16 frequencies\n",
      "16 unique frequencies\n",
      "HD 269902\n",
      "Found 5 frequencies\n",
      "5 unique frequencies\n"
     ]
    }
   ],
   "source": [
    "good_f_arrs = []\n",
    "names = ['HD 268687', 'HD 269840', 'HD 269902']\n",
    "\n",
    "for n in names:\n",
    "    print(n)\n",
    "    this_star = fyps[fyps['CommonName'] == n]\n",
    "    \n",
    "    tic = this_star['TIC ID'].iloc[0]\n",
    "    lc, lc_smooth = lc_extract(get_lc_from_id(tic), smooth=128)\n",
    "    time, flux, err = lc['Time'], lc['Flux'], lc['Err']\n",
    "    good_fs, good_amps, good_phases, good_snrs, good_peaks = prewhiten(time, flux, err)\n",
    "    \n",
    "    good_f_arrs.append(good_fs)"
   ]
  },
  {
   "cell_type": "code",
   "execution_count": 56,
   "metadata": {},
   "outputs": [
    {
     "name": "stdout",
     "output_type": "stream",
     "text": [
      "HD 268687\n",
      "HD 269840\n",
      "HD 269902\n"
     ]
    },
    {
     "data": {
      "text/plain": [
       "<matplotlib.lines.Line2D at 0x7ff2507e9350>"
      ]
     },
     "execution_count": 56,
     "metadata": {},
     "output_type": "execute_result"
    },
    {
     "data": {
      "image/png": "[encoded data removed]",
      "text/plain": [
       "<Figure size 432x288 with 1 Axes>"
      ]
     },
     "metadata": {
      "needs_background": "light"
     },
     "output_type": "display_data"
    }
   ],
   "source": [
    "names = ['HD 268687', 'HD 269840', 'HD 269902']\n",
    "f0_is = [2,0,0]\n",
    "prefacs = [0.5,0.25,0.5]\n",
    "n_harm_p1s = [6,10,5]\n",
    "\n",
    "all_ocs = []\n",
    "all_oc_errs = []\n",
    "for j,(n,f0_i,pre,nharm) in enumerate(zip(names,f0_is,prefacs,n_harm_p1s)):\n",
    "    print(n)\n",
    "    \n",
    "    good_fs = good_f_arrs[j]\n",
    "    \n",
    "    f0,f0_e = pre*good_fs[f0_i]\n",
    "    degs = []\n",
    "    o_cs = []\n",
    "    o_c_ers = []\n",
    "    for i in range(nharm):\n",
    "        deg = i+1\n",
    "        degs.append(deg)\n",
    "        c = f0*i\n",
    "        c_err = f0_e*i\n",
    "        o,o_err = good_fs[np.argmin(np.abs(good_fs[:,0]-c))]\n",
    "        o_cs.append(o-c)\n",
    "        oc_err = np.sqrt((o_err*o_err) + (c_err*c_err))\n",
    "        o_c_ers.append(oc_err)\n",
    "        if deg > 1:\n",
    "            all_ocs.append(o-c)\n",
    "            all_oc_errs.append(oc_err)\n",
    "    plt.errorbar(np.array(degs)-1,o_cs,yerr=o_c_ers,fmt='o',label=n)\n",
    "all_ocs = np.array(all_ocs)\n",
    "all_oc_errs = np.array(all_oc_errs)\n",
    "plt.legend()\n",
    "plt.xlim(0.9,9.1)\n",
    "plt.ylim(-0.0025,0.0025)\n",
    "plt.axhline(y=0,ls='--',c='k')"
   ]
  },
  {
   "cell_type": "code",
   "execution_count": 57,
   "metadata": {},
   "outputs": [
    {
     "data": {
      "text/plain": [
       "<matplotlib.lines.Line2D at 0x7ff24033bd50>"
      ]
     },
     "execution_count": 57,
     "metadata": {},
     "output_type": "execute_result"
    },
    {
     "data": {
      "image/png": "[encoded data removed]",
      "text/plain": [
       "<Figure size 432x288 with 1 Axes>"
      ]
     },
     "metadata": {
      "needs_background": "light"
     },
     "output_type": "display_data"
    }
   ],
   "source": [
    "Ds = []\n",
    "chi2s = []\n",
    "for D in np.logspace(0,4,101):\n",
    "    Ds.append(D)\n",
    "    chi2_red = np.sum(np.power(all_ocs/(D*all_oc_errs),2.0))/len(all_ocs)\n",
    "    chi2s.append(chi2_red)\n",
    "plt.loglog(Ds,chi2s)\n",
    "plt.ylim(0.001,1e8)\n",
    "plt.axhline(y=1)"
   ]
  },
  {
   "cell_type": "code",
   "execution_count": 51,
   "metadata": {},
   "outputs": [
    {
     "data": {
      "text/plain": [
       "1.5848931924611136"
      ]
     },
     "execution_count": 51,
     "metadata": {},
     "output_type": "execute_result"
    }
   ],
   "source": [
    "Ds[np.argmin(np.abs(np.array(chi2s) - 1))]"
   ]
  },
  {
   "cell_type": "code",
   "execution_count": null,
   "metadata": {},
   "outputs": [],
   "source": []
  }
 ],
 "metadata": {
  "kernelspec": {
   "display_name": "Python 3",
   "language": "python",
   "name": "python3"
  },
  "language_info": {
   "codemirror_mode": {
    "name": "ipython",
    "version": 3
   },
   "file_extension": ".py",
   "mimetype": "text/x-python",
   "name": "python",
   "nbconvert_exporter": "python",
   "pygments_lexer": "ipython3",
   "version": "3.7.4"
  }
 },
 "nbformat": 4,
 "nbformat_minor": 4
}
