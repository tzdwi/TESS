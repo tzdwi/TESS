{
 "cells": [
  {
   "cell_type": "code",
   "execution_count": 1,
   "metadata": {},
   "outputs": [],
   "source": [
    "import numpy as np\n",
    "import pandas as pd\n",
    "from astropy.table import Table, vstack\n",
    "from matplotlib import pyplot as plt, cm as cm, colors as colors\n",
    "import matplotlib as mpl\n",
    "from matplotlib.gridspec import GridSpec\n",
    "from glob import glob\n",
    "from astropy.timeseries import LombScargle\n",
    "from scipy import stats\n",
    "import warnings\n",
    "from TESStools import *\n",
    "from tqdm.notebook import tqdm"
   ]
  },
  {
   "cell_type": "code",
   "execution_count": 2,
   "metadata": {},
   "outputs": [],
   "source": [
    "fyps = pd.read_csv('fyps.csv')"
   ]
  },
  {
   "cell_type": "code",
   "execution_count": 3,
   "metadata": {},
   "outputs": [
    {
     "name": "stdout",
     "output_type": "stream",
     "text": [
      "HD 268687\n",
      "Found 6 frequencies\n",
      "6 unique frequencies\n",
      "HD 269840\n",
      "Found 7 frequencies\n",
      "7 unique frequencies\n",
      "HD 269902\n",
      "Found 3 frequencies\n",
      "3 unique frequencies\n"
     ]
    }
   ],
   "source": [
    "good_f_arrs = []\n",
    "names = ['HD 268687', 'HD 269840', 'HD 269902']\n",
    "\n",
    "for n in names:\n",
    "    print(n)\n",
    "    this_star = fyps[fyps['CommonName'] == n]\n",
    "    \n",
    "    tic = this_star['TIC ID'].iloc[0]\n",
    "    lc, lc_smooth = lc_extract(get_lc_from_id(tic), smooth=128)\n",
    "    time, flux, err = lc['Time'], lc['Flux'], lc['Err']\n",
    "    good_fs, good_amps, good_phases, good_snrs, good_peaks = prewhiten_harmonic(time, flux, err)\n",
    "    \n",
    "    good_f_arrs.append(good_fs)"
   ]
  },
  {
   "cell_type": "code",
   "execution_count": 4,
   "metadata": {},
   "outputs": [
    {
     "data": {
      "text/plain": [
       "[array([[2.76530509e+00, 6.47560969e-05],\n",
       "        [3.68693149e+00, 1.08931138e-04],\n",
       "        [1.84352713e+00, 5.63147490e-05],\n",
       "        [4.60860763e+00, 1.80832885e-04],\n",
       "        [1.34234726e+00, 4.93432623e-05],\n",
       "        [9.21871258e-01, 4.73267010e-05]]),\n",
       " array([[2.26965893e+00, 5.27940769e-05],\n",
       "        [3.40445242e+00, 7.77702819e-05],\n",
       "        [1.13468853e+00, 3.70753390e-05],\n",
       "        [2.83703781e+00, 2.05440416e-04],\n",
       "        [7.16769158e-01, 7.33352003e-05],\n",
       "        [3.97206611e+00, 2.44150074e-04],\n",
       "        [1.38512974e+00, 1.31297640e-04]]),\n",
       " array([[2.90337860e+00, 6.01111640e-05],\n",
       "        [1.45175166e+00, 3.74449559e-05],\n",
       "        [8.16376553e-02, 2.41149268e-05]])]"
      ]
     },
     "execution_count": 4,
     "metadata": {},
     "output_type": "execute_result"
    }
   ],
   "source": [
    "good_f_arrs"
   ]
  },
  {
   "cell_type": "code",
   "execution_count": 27,
   "metadata": {},
   "outputs": [
    {
     "name": "stdout",
     "output_type": "stream",
     "text": [
      "HD 268687\n",
      "[0.92187126 1.84374252 2.76561377 3.68748503 4.60935629 5.53122755] 2.765305085585256 2\n",
      "[0.92187126 1.84374252 2.76561377 3.68748503 4.60935629 5.53122755] 3.686931490462384 3\n",
      "[0.92187126 1.84374252 2.76561377 3.68748503 4.60935629 5.53122755] 1.843527130476522 1\n",
      "[0.92187126 1.84374252 2.76561377 3.68748503 4.60935629 5.53122755] 4.6086076317977165 4\n",
      "[0.92187126 1.84374252 2.76561377 3.68748503 4.60935629 5.53122755] 0.9218712579354087 0\n",
      "HD 269840\n",
      "[0.56741473 1.13482946 1.7022442  2.26965893 2.83707366 3.40448839\n",
      " 3.97190313 4.53931786 5.10673259 5.67414732] 2.2696589294898417 3\n",
      "[0.56741473 1.13482946 1.7022442  2.26965893 2.83707366 3.40448839\n",
      " 3.97190313 4.53931786 5.10673259 5.67414732] 3.4044524214819947 5\n",
      "[0.56741473 1.13482946 1.7022442  2.26965893 2.83707366 3.40448839\n",
      " 3.97190313 4.53931786 5.10673259 5.67414732] 1.1346885266129663 1\n",
      "[0.56741473 1.13482946 1.7022442  2.26965893 2.83707366 3.40448839\n",
      " 3.97190313 4.53931786 5.10673259 5.67414732] 2.8370378084019205 4\n",
      "[0.56741473 1.13482946 1.7022442  2.26965893 2.83707366 3.40448839\n",
      " 3.97190313 4.53931786 5.10673259 5.67414732] 3.97206610663826 6\n",
      "HD 269902\n",
      "[1.45175166 2.90350333 4.35525499 5.80700665 7.25875831] 2.903378598862284 1\n",
      "[1.45175166 2.90350333 4.35525499 5.80700665 7.25875831] 1.4517516628215184 0\n"
     ]
    },
    {
     "data": {
      "text/plain": [
       "<matplotlib.lines.Line2D at 0x7fc1e0127d10>"
      ]
     },
     "execution_count": 27,
     "metadata": {},
     "output_type": "execute_result"
    },
    {
     "data": {
      "image/png": "[encoded data removed]",
      "text/plain": [
       "<Figure size 432x288 with 1 Axes>"
      ]
     },
     "metadata": {
      "needs_background": "light"
     },
     "output_type": "display_data"
    }
   ],
   "source": [
    "names = ['HD 268687', 'HD 269840', 'HD 269902']\n",
    "f0_is = [5,0,1]\n",
    "prefacs = [1,0.25,1]\n",
    "n_harm_p1s = [6,10,5]\n",
    "\n",
    "all_ocs = []\n",
    "all_oc_errs = []\n",
    "for j,(n,f0_i,pre,nharm) in enumerate(zip(names,f0_is,prefacs,n_harm_p1s)):\n",
    "    print(n)\n",
    "\n",
    "    good_fs = good_f_arrs[j]\n",
    "\n",
    "    f0,f0_e = pre*good_fs[f0_i]\n",
    "    cs = np.array([f0*(i+1) for i in range(nharm)])\n",
    "    c_err = np.array([f0_e*(i+1) for i in range(nharm)])\n",
    "    \n",
    "    degs = []\n",
    "    o_cs = []\n",
    "    o_c_errs = []\n",
    "    \n",
    "    for f in good_fs:\n",
    "        if np.min(np.abs(cs-f[0])) <= 0.01:\n",
    "            deg = np.argmin(np.abs(cs-f[0]))\n",
    "            c_close = cs[deg]\n",
    "            c_close_err = c_err[deg]\n",
    "            o_cs.append(f[0] - c_close)\n",
    "            o_c_errs.append(np.sqrt(f[1]**2.0) + (c_close_err**2.0))\n",
    "            degs.append(deg)\n",
    "            print(cs,f[0],deg)\n",
    "            if deg > -1:\n",
    "                all_ocs.append(f[0] - c_close)\n",
    "                all_oc_errs.append(np.sqrt(f[1]**2.0) + (c_close_err**2.0))\n",
    "    plt.errorbar(np.array(degs),o_cs,yerr=o_c_errs,fmt='o',label=n,alpha=0.5)\n",
    "all_ocs = np.array(all_ocs)\n",
    "all_oc_errs = np.array(all_oc_errs)\n",
    "plt.legend()\n",
    "#plt.xlim(0.9,9.1)\n",
    "#plt.ylim(-0.0025,0.0025)\n",
    "plt.axhline(y=0,ls='--',c='k')"
   ]
  },
  {
   "cell_type": "code",
   "execution_count": 28,
   "metadata": {},
   "outputs": [
    {
     "data": {
      "text/plain": [
       "<matplotlib.lines.Line2D at 0x7fc2005c45d0>"
      ]
     },
     "execution_count": 28,
     "metadata": {},
     "output_type": "execute_result"
    },
    {
     "data": {
      "image/png": "[encoded data removed]",
      "text/plain": [
       "<Figure size 432x288 with 1 Axes>"
      ]
     },
     "metadata": {
      "needs_background": "light"
     },
     "output_type": "display_data"
    }
   ],
   "source": [
    "Ds = []\n",
    "chi2s = []\n",
    "for D in np.logspace(0,4,101):\n",
    "    Ds.append(D)\n",
    "    chi2_red = np.sum(np.power(all_ocs/(D*all_oc_errs),2.0))/len(all_ocs)\n",
    "    chi2s.append(chi2_red)\n",
    "plt.loglog(Ds,chi2s)\n",
    "plt.ylim(0.001,1e8)\n",
    "plt.axhline(y=1)"
   ]
  },
  {
   "cell_type": "code",
   "execution_count": 29,
   "metadata": {},
   "outputs": [
    {
     "data": {
      "text/plain": [
       "3.019951720402016"
      ]
     },
     "execution_count": 29,
     "metadata": {},
     "output_type": "execute_result"
    }
   ],
   "source": [
    "Ds[np.argmin(np.abs(np.array(chi2s) - 1))]"
   ]
  },
  {
   "cell_type": "code",
   "execution_count": null,
   "metadata": {},
   "outputs": [],
   "source": []
  }
 ],
 "metadata": {
  "kernelspec": {
   "display_name": "Python 3",
   "language": "python",
   "name": "python3"
  },
  "language_info": {
   "codemirror_mode": {
    "name": "ipython",
    "version": 3
   },
   "file_extension": ".py",
   "mimetype": "text/x-python",
   "name": "python",
   "nbconvert_exporter": "python",
   "pygments_lexer": "ipython3",
   "version": "3.7.4"
  }
 },
 "nbformat": 4,
 "nbformat_minor": 4
}
